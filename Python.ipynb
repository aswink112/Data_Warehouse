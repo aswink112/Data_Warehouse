{
  "nbformat": 4,
  "nbformat_minor": 0,
  "metadata": {
    "colab": {
      "name": "Python.ipynb",
      "provenance": [],
      "authorship_tag": "ABX9TyPjFxAagBn1w7lil9oJv2Cv",
      "include_colab_link": true
    },
    "kernelspec": {
      "name": "python3",
      "display_name": "Python 3"
    }
  },
  "cells": [
    {
      "cell_type": "markdown",
      "metadata": {
        "id": "view-in-github",
        "colab_type": "text"
      },
      "source": [
        "<a href=\"https://colab.research.google.com/github/aswink112/Data_Warehouse/blob/master/Python.ipynb\" target=\"_parent\"><img src=\"https://colab.research.google.com/assets/colab-badge.svg\" alt=\"Open In Colab\"/></a>"
      ]
    },
    {
      "cell_type": "markdown",
      "metadata": {
        "id": "U5Y9ab2ouXxg",
        "colab_type": "text"
      },
      "source": [
        "# **Introduction to Python**"
      ]
    },
    {
      "cell_type": "markdown",
      "metadata": {
        "id": "HTueY8-bucXk",
        "colab_type": "text"
      },
      "source": [
        "# **Theory: Introduction to Python**"
      ]
    },
    {
      "cell_type": "markdown",
      "metadata": {
        "id": "g-w3zG2Pugo1",
        "colab_type": "text"
      },
      "source": [
        "# **1. What is Python?**\n",
        "Python is a modern general-purpose programming language initially developed by a Dutch programmer named Guido van Rossum in the late 1980s. The name comes from the popular Monty Python show, not the snake as you might think. This language has a clean, uniform and well-readable syntax and is **designed to be easy to learn and use in practice.**\n",
        "\n",
        "Nowadays, Python is one of the most popular programming languages worldwide according to the [TIOBE](https://www.tiobe.com/tiobe-index/) index and the number of programmers who use it is growing every day. The language has a huge community of developers around the world. If you have a problem, you can always ask other programmers for help or find a suitable answer on a site like [Stack Overflow.](https://stackoverflow.com/questions/tagged/python)\n",
        "\n",
        "Developing software with Python is easy and fun :)\n",
        "\n",
        "![alt text](https://ucarecdn.com/33368eeb-d6f0-4356-90d4-c5aab4126fbc/)\n",
        "**The Python logo**\n",
        "\n",
        "Python has a wide range of possible applications, especially in:\n",
        "\n",
        "*   Web development\n",
        "*   data science (including machine learning)\n",
        "*   scripting (task automation, e.g. text processing or a simulation of typical user actions)\n",
        "\n",
        "Less commonly, it is also used in **desktop development**."
      ]
    },
    {
      "cell_type": "markdown",
      "metadata": {
        "id": "41L9JNqTvdeY",
        "colab_type": "text"
      },
      "source": [
        "# **2. Python in data science**\n",
        "\n",
        "The huge Python's popularity in recent years is mostly due to its use in data science. What makes it better than other languages for this purpose? Well, there're a number of reasons:\n",
        "\n",
        "*   it's simple syntax allows people from non-programming backgrounds use it for data processing and model training without spending much time learning a new language;\n",
        "*   Python supports a very large number of third-party libraries for machine learning, neural networks, statistics, and numeric calculations, which makes your job much easier;\n",
        "*   with Python, it is possible to collect, clean, and explore data, as well as train models and visualize the results — all in one setting;\n",
        "*  the Python ML developer's community is very large, so you can always find support for your tasks.\n",
        "\n",
        "As you can see, Python does have a lot to offer for data science enthusiasts.\n",
        "\n"
      ]
    },
    {
      "cell_type": "markdown",
      "metadata": {
        "id": "BUfY81GDvzJH",
        "colab_type": "text"
      },
      "source": [
        "# **3. Short history of Python**\n",
        "Like other programming languages, Python has gone through a number of versions. Python 1.0 was released in 1994 and laid the basic principles of the language with emphasis on simplicity.\n",
        "\n",
        "Python 2.0 was released in 2000. This version has become very popular among programmers. Different 2.x subversions (2.6, 2.7) are still used in various projects and libraries. The symbol x in 2.x means any subversion of Python 2.\n",
        "\n",
        "Python 3.0 was the next major version released in 2008. It broke backward compatibility with its predecessors in order to rid the language of historic clutter and make Python more readable and consistent.\n",
        "\n",
        "So, today two similar but incompatible versions of Python are commonly in use. **Throughout this course, we will learn Python 3.x.**"
      ]
    },
    {
      "cell_type": "markdown",
      "metadata": {
        "id": "9ORmvqT_v8Vz",
        "colab_type": "text"
      },
      "source": [
        "# **4. First program example**\n",
        "Here is a single line of Python code that prints `Learn Python to be great!.`"
      ]
    },
    {
      "cell_type": "code",
      "metadata": {
        "id": "yihzR1-ewHgh",
        "colab_type": "code",
        "colab": {
          "base_uri": "https://localhost:8080/",
          "height": 35
        },
        "outputId": "622340bc-6fc5-4aec-9af8-a1088141a927"
      },
      "source": [
        "print('Learn Python to be great!')"
      ],
      "execution_count": 8,
      "outputs": [
        {
          "output_type": "stream",
          "text": [
            "Learn Python to be great!\n"
          ],
          "name": "stdout"
        }
      ]
    },
    {
      "cell_type": "markdown",
      "metadata": {
        "id": "WKffQlDWwP3M",
        "colab_type": "text"
      },
      "source": [
        "Now, you do not need to understand how this code works, just start to appreciate the syntax looking like English :)"
      ]
    },
    {
      "cell_type": "markdown",
      "metadata": {
        "id": "paBtD5gvwgmo",
        "colab_type": "text"
      },
      "source": [
        "\n",
        "\n",
        "---\n",
        "\n",
        "\n",
        "# **Theory: Overview of the basic program**"
      ]
    },
    {
      "cell_type": "markdown",
      "metadata": {
        "id": "k_obpXNMwkAX",
        "colab_type": "text"
      },
      "source": [
        "In this topic, you will learn how to develop your first Python programs. Despite the fact that these programs are quite simple, they are still syntactically correct and show that programming in Python is a treat."
      ]
    },
    {
      "cell_type": "markdown",
      "metadata": {
        "id": "tZC37PPRwnxm",
        "colab_type": "text"
      },
      "source": [
        "# **1. The Hello World program**\n",
        "\n",
        "Our first example will be **Hello, World!** It is traditionally used to introduce beginners to a new programming language."
      ]
    },
    {
      "cell_type": "code",
      "metadata": {
        "id": "NFloLKylw3Jg",
        "colab_type": "code",
        "colab": {
          "base_uri": "https://localhost:8080/",
          "height": 35
        },
        "outputId": "a4f94690-e7b1-4537-d083-a681783d24c9"
      },
      "source": [
        "print('Hello World!')"
      ],
      "execution_count": 7,
      "outputs": [
        {
          "output_type": "stream",
          "text": [
            "Hello World!\n"
          ],
          "name": "stdout"
        }
      ]
    },
    {
      "cell_type": "markdown",
      "metadata": {
        "id": "7vSvKpdFsQAp",
        "colab_type": "text"
      },
      "source": [
        "# **Object-oriented programming**\n"
      ]
    },
    {
      "cell_type": "markdown",
      "metadata": {
        "id": "Mgdn8-YdjU-c",
        "colab_type": "text"
      },
      "source": [
        "# **Theory: Multiple inheritance**"
      ]
    },
    {
      "cell_type": "markdown",
      "metadata": {
        "id": "uozRdYicjcIk",
        "colab_type": "text"
      },
      "source": [
        "By now, you are familiar with the mechanism of inheritance. Now it's time to go deeper and gain insight into multiple inheritance.\n",
        "\n",
        "**Multiple inheritance** is when a class has two or more parent classes.\n",
        "\n",
        "In the code, multiple inheritance looks similar to the single inheritance. Only now, in brackets after the child class, you need to write all parent classes instead of just one:"
      ]
    },
    {
      "cell_type": "code",
      "metadata": {
        "id": "X_BP2bVxjAZi",
        "colab_type": "code",
        "colab": {}
      },
      "source": [
        "class ParentClass1:\n",
        "  ...\n",
        "\n",
        "class ParentClass2:\n",
        "  ...\n",
        "\n",
        "class ParentClass3:\n",
        "  ...\n",
        "\n",
        "# Class definition with multiple inheritance\n",
        "class ChildClass(ParentClass1, ParentClass2, ParentClass3):\n",
        "  .."
      ],
      "execution_count": null,
      "outputs": []
    },
    {
      "cell_type": "markdown",
      "metadata": {
        "id": "mPqRdKBmkCW_",
        "colab_type": "text"
      },
      "source": [
        "Let's have a look at a particular class hierarchy. In the scheme, arrows point from the child class to the parent class.\n",
        "\n",
        "![alt text](https://ucarecdn.com/d0bfd897-623c-4fe7-a772-bd928072f88a/)\n",
        "\n",
        "**Class hierarchy with multiple inheritance.**\n",
        "\n",
        "As you can see, there are a basic parent class `Person` and classes `Student` and `Programmer` that inherit from it. The class `StudentProgrammer`, in its turn, inherits from both `Student` and `Programmer` classes which makes it a case of multiple inheritance. This way, we can say that `StudentProgrammer` has two parent classes, `Student` and `Programmer` while Person can be regarded as a \"grandparent\" class.\n",
        "\n",
        "Here's how the basic code for this hierarchy looks:\n",
        "\n"
      ]
    },
    {
      "cell_type": "code",
      "metadata": {
        "id": "GEefopghkvsK",
        "colab_type": "code",
        "colab": {}
      },
      "source": [
        "class Person:\n",
        "  ...\n",
        "\n",
        "class Student(Person):\n",
        "  ...\n",
        "\n",
        "class Programmer(Person):\n",
        "  ...\n",
        "\n",
        "class StudentProgrammer(Student, Programmer):\n",
        "  ..."
      ],
      "execution_count": null,
      "outputs": []
    },
    {
      "cell_type": "markdown",
      "metadata": {
        "id": "8lWRLo9rfjwL",
        "colab_type": "text"
      },
      "source": [
        "# **1. The diamond problem**\n",
        "---\n",
        "\n",
        "As you remember, classes inherit methods and attributes from their parents. If inheritance is simple, everything is clear and straightforward. However, when we deal with multiple inheritance, things are bound to get a little bit more complicated.\n",
        "\n",
        "One of the most famous \"complications\" is called a diamond problem (or, rather dramatically, \"Deadly Diamond of Death\"). The diamond problem is an ambiguity that arises in the case of multiple inheritance. The class hierarchy we've described above is a perfect example of the structure that may cause this problem.\n",
        "\n",
        "So, we have a class hierarchy with one superclass, two classes that inherit from it, and a class that has those child classes as parents. As you can see from the hierarchy scheme above, the whole structure is shaped like a diamond which is where the name of the issue comes from (not the Rihanna song, unfortunately).\n",
        "\n",
        "Let's add some methods to classes to see where the problems lie."
      ]
    },
    {
      "cell_type": "code",
      "metadata": {
        "id": "yncpM_Q1fj9M",
        "colab_type": "code",
        "colab": {}
      },
      "source": [
        "class Person:\n",
        "  def print_message(self):\n",
        "    print(\"Message from Person\")\n",
        "  \n",
        "class Student(Person):\n",
        "  def print_message(self):\n",
        "    print(\"Message from Student\")\n",
        "\n",
        "class Programmer(Person):\n",
        "  def print_message(self):\n",
        "    print(\"Message from Programmer\")\n",
        "\n",
        "class StudentProgrammer(Student, Programmer):\n",
        "  pass"
      ],
      "execution_count": null,
      "outputs": []
    },
    {
      "cell_type": "markdown",
      "metadata": {
        "id": "RlUeegcdgomX",
        "colab_type": "text"
      },
      "source": [
        "Class `Person` has a method `print_message` that classes `Student` and `Programmer` override to print their own messages. The class `StudentProgrammer` doesn't override this method.\n",
        "\n",
        "The question is, then: if we create an instance of the class `StudentProgrammer` and call `print_message` method, which message will be printed?\n",
        "\n",
        "This is the crux of the diamond problem: how to choose an implementation when we have several alternatives."
      ]
    },
    {
      "cell_type": "markdown",
      "metadata": {
        "id": "oc7VfyzIhI08",
        "colab_type": "text"
      },
      "source": [
        "# **2. MRO**\n",
        "Different programming languages use different techniques for dealing with the diamond problem. Basically, what we need to do is to somehow transform the diamond shape (or any complicated hierarchy) into a single line so that we know in which order to look for the necessary method. Python uses the [C3 Linearization algorithm](https://www.python.org/download/releases/2.3/mro/) that calculates the **Method Resolution Order (MRO)**.\n",
        "\n",
        "MRO tells us how the particular class hierarchy looks in a linear form and how we should navigate this hierarchy. Two basic rules are that child classes precede parent classes and parent classes are placed in the order they were listed in.\n",
        "\n",
        "Each class has a `__mro__` attribute (inherited from `object`) that contains the parent classes in the MRO. Let's print this attribute of the `StudentProgrammer` class and see what we'll get:"
      ]
    },
    {
      "cell_type": "code",
      "metadata": {
        "id": "l8wO72leaMPE",
        "colab_type": "code",
        "colab": {
          "base_uri": "https://localhost:8080/",
          "height": 55
        },
        "outputId": "931359cc-6398-4539-ca6b-eb0cac083dfe"
      },
      "source": [
        "print(StudentProgrammer.__mro__)"
      ],
      "execution_count": null,
      "outputs": [
        {
          "output_type": "stream",
          "text": [
            "(<class '__main__.StudentProgrammer'>, <class '__main__.Student'>, <class '__main__.Programmer'>, <class '__main__.Person'>, <class 'object'>)\n"
          ],
          "name": "stdout"
        }
      ]
    },
    {
      "cell_type": "markdown",
      "metadata": {
        "id": "xO27kWYRiYJ7",
        "colab_type": "text"
      },
      "source": [
        "You can see that according to **MRO**, the immediate parent of the class `StudentProgrammer` is `Student`. It means that if we call print_method, the version from the class `Student` will be implemented."
      ]
    },
    {
      "cell_type": "code",
      "metadata": {
        "id": "MesUK5WmigGc",
        "colab_type": "code",
        "colab": {
          "base_uri": "https://localhost:8080/",
          "height": 35
        },
        "outputId": "250d3cba-6e2a-4a3a-9166-ad6a05e24e2d"
      },
      "source": [
        "jack = StudentProgrammer()\n",
        "jack.print_message()"
      ],
      "execution_count": null,
      "outputs": [
        {
          "output_type": "stream",
          "text": [
            "Message from Student\n"
          ],
          "name": "stdout"
        }
      ]
    },
    {
      "cell_type": "markdown",
      "metadata": {
        "id": "XG-W3OuKlmes",
        "colab_type": "text"
      },
      "source": [
        "# **3. super() with multiple inheritance**\n",
        "By now, you already know how the `super()` function is used in single inheritance. However, it truly shines when we have to deal with multiple inheritance, especially the diamond problem. The `super()` function uses MRO to call the method and get an attribute of the immediate parent class. You don't need to analyze the hierarchy and figure out the parent class yourself, the `super()` function will do it for you.\n",
        "\n",
        "Let's modify our classes by adding the `super()` calls to the `print_message` methods."
      ]
    },
    {
      "cell_type": "code",
      "metadata": {
        "id": "7s3HABBXmJ49",
        "colab_type": "code",
        "colab": {}
      },
      "source": [
        "class Person:\n",
        "  def print_message(self):\n",
        "    print(\"Message from Person\")\n",
        "\n",
        "class Student(Person):\n",
        "  def print_message(self):\n",
        "    print(\"Message from Student\")\n",
        "    super().print_message()\n",
        "\n",
        "class Programmer(Person):\n",
        "  def print_message(self):\n",
        "    print(\"Message from Programmer\")\n",
        "    super().print_message()\n",
        "\n",
        "class StudentProgrammer(Student, Programmer):\n",
        "  def print_message(self):\n",
        "    super().print_message()"
      ],
      "execution_count": null,
      "outputs": []
    },
    {
      "cell_type": "markdown",
      "metadata": {
        "id": "xz7tppEFm8wx",
        "colab_type": "text"
      },
      "source": [
        "Each class (except `Person`) now calls the method of the parent class after printing its own message. Now if we call this method for `StudentProgrammer` class we'll see the following:"
      ]
    },
    {
      "cell_type": "code",
      "metadata": {
        "id": "ljPVskrPm_VD",
        "colab_type": "code",
        "colab": {
          "base_uri": "https://localhost:8080/",
          "height": 69
        },
        "outputId": "d172c4cb-8d3f-483b-de2c-c036ce71f492"
      },
      "source": [
        "jack = StudentProgrammer()\n",
        "jack.print_message()"
      ],
      "execution_count": null,
      "outputs": [
        {
          "output_type": "stream",
          "text": [
            "Message from Student\n",
            "Message from Programmer\n",
            "Message from Person\n"
          ],
          "name": "stdout"
        }
      ]
    },
    {
      "cell_type": "markdown",
      "metadata": {
        "id": "-1MEGHxanM7H",
        "colab_type": "text"
      },
      "source": [
        "The messages were printed in the MRO of the class `StudentProgrammer` without any repetitions. This is the beauty and the benefit of the `super()` function: if you've designed your classes well, you don't need to worry about the order."
      ]
    },
    {
      "cell_type": "markdown",
      "metadata": {
        "id": "jpVbJxpAnR3z",
        "colab_type": "text"
      },
      "source": [
        "# **4. Summary**\n",
        "In this topic, we've looked at multiple inheritance in Python: a situation when a class has more than one parent. While it can be very useful, multiple inheritance can also lead to some problems, for example, the diamond problem.\n",
        "\n",
        "Python uses method resolution order, MRO, to deal with ambiguity. Every class has an attribute that contains its MRO. The `super()` function, which is used for accessing methods and attributes of the parent class, makes use of the MRO to determine which implementation to call.\n",
        "\n",
        "We encourage you to experiment with different class hierarchies and the `super()` function. This will allow you to get the hang of multiple inheritance, deal with hidden dangers and learn how to construct complex hierarchies in an efficient way."
      ]
    },
    {
      "cell_type": "markdown",
      "metadata": {
        "id": "HwnfFAmsowyJ",
        "colab_type": "text"
      },
      "source": [
        "\n",
        "\n",
        "---\n",
        "\n",
        "\n",
        "# **Theory: Abstract classes**"
      ]
    },
    {
      "cell_type": "markdown",
      "metadata": {
        "id": "7bvTSMERozFm",
        "colab_type": "text"
      },
      "source": [
        "Suppose, you are creating a role-playing game. You've come up with a bunch of different character classes and you want to define their actions. You want your characters to explore the world, interact with each other, fight, perform magic, sing songs. All characters should be able to do all these things, but the exact way they do it should depend on the type of character.\n",
        "\n",
        "In practice, this means that you need to create a class for each character and define the corresponding methods. To make the process easier and more structured, you should use **abstract classes**.\n",
        "\n",
        "In this topic, we'll discuss what are abstract classes and why they're perfect for such tasks."
      ]
    },
    {
      "cell_type": "markdown",
      "metadata": {
        "id": "jirHFad8p8sn",
        "colab_type": "text"
      },
      "source": [
        "# **1. What are abstract classes?**\n",
        "\n",
        "Generally speaking, an abstract class is a template that can be used to create other classes. When we have a template, we don't work directly with it, instead, we create other objects based on this template and work with them. Abstract classes operate similarly.\n",
        "\n",
        "So, what makes a class abstract?\n",
        "\n",
        "Well, for one, we cannot create instances of abstract classes. Since an abstract class is a blueprint of sorts, it would make no sense to create such an instance. Another feature of abstract classes is that they have abstract methods. Abstract methods are methods that generally don't have any implementation and they are declared with the `@abstractmethod` decorator.\n",
        "\n",
        "You may wonder what is the purpose of these abstract classes since there are no objects and no functionality. Well, their value lies in the fact that they define the structure and functionality for other classes. Abstract classes are used as parent or base classes. All abstract methods defined in the abstract class should be overridden in a child class.\n",
        "\n",
        "*Note that even though abstract methods generally don't have any implementation, they can be implemented. You would still need to override this method in the child class, though. So, implementing an abstract method doesn't make a lot of sense.*\n",
        "\n",
        "Take our RPG(role playing game) as an example. We can use abstract classes to create our characters: we would need to create an abstract player class, list all possible actions as methods, and then create child classes for specific character roles."
      ]
    },
    {
      "cell_type": "markdown",
      "metadata": {
        "id": "bBtk6gzHtWvj",
        "colab_type": "text"
      },
      "source": [
        "# **2. How to create an abstract class?**\n",
        "To create an abstract class in Python, we need to use the `abc` module (that we first have to import). `abc` is a module for abstract base classes, hence the name.\n",
        "\n",
        "The first step of making a class abstract is to declare it with a parent class `ABC` from the `abc` module.\n"
      ]
    },
    {
      "cell_type": "code",
      "metadata": {
        "id": "JY5ndNOhtv4K",
        "colab_type": "code",
        "colab": {}
      },
      "source": [
        "from abc import ABC, abstractmethod\n",
        "\n",
        "class Player(ABC):\n",
        "  ..."
      ],
      "execution_count": null,
      "outputs": []
    }
  ]
}